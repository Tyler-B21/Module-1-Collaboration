{
 "cells": [
  {
   "cell_type": "code",
   "execution_count": 8,
   "id": "c7613c2c-1bf8-441d-ae0e-28e697158677",
   "metadata": {},
   "outputs": [
    {
     "name": "stdout",
     "output_type": "stream",
     "text": [
      "Too Low\n"
     ]
    }
   ],
   "source": [
    "secret = 6\n",
    "guess = 5\n",
    "if guess < secret:\n",
    "    print(\"Too Low\")\n",
    "elif guess > secret:\n",
    "    print(\"Too High\")\n",
    "elif guess == secret:\n",
    "    print(\"Just right\")\n",
    "else:\n",
    "    print(\"Invalid input\")"
   ]
  },
  {
   "cell_type": "code",
   "execution_count": 20,
   "id": "4f12d884-d3e3-490e-bbdb-8146d738dc59",
   "metadata": {},
   "outputs": [
    {
     "name": "stdout",
     "output_type": "stream",
     "text": [
      "The item is a pea\n",
      "The item is not a cherry\n",
      "The item is not a watermelon\n",
      "The item is not a pumpkin\n"
     ]
    }
   ],
   "source": [
    "small = True\n",
    "green = True\n",
    "if (small == True and green == True):\n",
    "    print(\"The item is a pea\")\n",
    "else:\n",
    "    print(\"The item is not a pea\")\n",
    "if (small == True and green == False):\n",
    "    print(\"The item is a cherry\")\n",
    "else:\n",
    "    print(\"The item is not a cherry\")\n",
    "if (small == False and green == True):\n",
    "    print(\"The item is a watermelon\")\n",
    "else:\n",
    "    print(\"The item is not a watermelon\")\n",
    "if (small == False and green == False):\n",
    "    print(\"The item is a pumpkin\")\n",
    "else:\n",
    "    print(\"The item is not a pumpkin\")"
   ]
  },
  {
   "cell_type": "code",
   "execution_count": 22,
   "id": "090af150-9b7b-47f0-a9b2-1ae4463014fd",
   "metadata": {},
   "outputs": [
    {
     "name": "stdout",
     "output_type": "stream",
     "text": [
      "3\n",
      "2\n",
      "1\n",
      "0\n"
     ]
    }
   ],
   "source": [
    "list = [3, 2, 1, 0]\n",
    "for list in list:\n",
    "    print(list)"
   ]
  },
  {
   "cell_type": "code",
   "execution_count": 26,
   "id": "037e0416-fcaf-4d65-920e-a6cc4704ce26",
   "metadata": {},
   "outputs": [
    {
     "name": "stdout",
     "output_type": "stream",
     "text": [
      "too low\n",
      "too low\n",
      "too low\n",
      "too low\n",
      "too low\n",
      "too low\n",
      "found it!\n"
     ]
    }
   ],
   "source": [
    "guess_me = 7\n",
    "number = 1\n",
    "i = False\n",
    "while i != True:\n",
    "    if number < guess_me:\n",
    "        print(\"too low\")\n",
    "    elif number == guess_me:\n",
    "        print(\"found it!\")\n",
    "        i = True\n",
    "    elif number > guess_me:\n",
    "        print(\"oops\")\n",
    "        break\n",
    "    number += 1"
   ]
  },
  {
   "cell_type": "code",
   "execution_count": 30,
   "id": "10907856-bb78-46fc-826e-c2dfd171457a",
   "metadata": {},
   "outputs": [
    {
     "name": "stdout",
     "output_type": "stream",
     "text": [
      "too low\n",
      "too low\n",
      "too low\n",
      "too low\n",
      "too low\n",
      "found it!\n"
     ]
    }
   ],
   "source": [
    "guess_me = 5\n",
    "number = 0\n",
    "for number in range(10):\n",
    "    if number < guess_me:\n",
    "        print(\"too low\")\n",
    "    elif number == guess_me:\n",
    "        print(\"found it!\")\n",
    "        break\n",
    "    elif number > guess_me:\n",
    "        print(\"oops\")\n",
    "        break"
   ]
  }
 ],
 "metadata": {
  "kernelspec": {
   "display_name": "Python 3 (ipykernel)",
   "language": "python",
   "name": "python3"
  },
  "language_info": {
   "codemirror_mode": {
    "name": "ipython",
    "version": 3
   },
   "file_extension": ".py",
   "mimetype": "text/x-python",
   "name": "python",
   "nbconvert_exporter": "python",
   "pygments_lexer": "ipython3",
   "version": "3.12.4"
  }
 },
 "nbformat": 4,
 "nbformat_minor": 5
}
